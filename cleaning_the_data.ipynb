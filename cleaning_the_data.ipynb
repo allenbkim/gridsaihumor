{
 "cells": [
  {
   "cell_type": "code",
   "execution_count": 1,
   "metadata": {},
   "outputs": [],
   "source": [
    "import pandas as pd\n",
    "import re"
   ]
  },
  {
   "cell_type": "code",
   "execution_count": 2,
   "metadata": {},
   "outputs": [
    {
     "data": {
      "text/html": [
       "<div>\n",
       "<style scoped>\n",
       "    .dataframe tbody tr th:only-of-type {\n",
       "        vertical-align: middle;\n",
       "    }\n",
       "\n",
       "    .dataframe tbody tr th {\n",
       "        vertical-align: top;\n",
       "    }\n",
       "\n",
       "    .dataframe thead th {\n",
       "        text-align: right;\n",
       "    }\n",
       "</style>\n",
       "<table border=\"1\" class=\"dataframe\">\n",
       "  <thead>\n",
       "    <tr style=\"text-align: right;\">\n",
       "      <th></th>\n",
       "      <th>Question</th>\n",
       "      <th>Answer</th>\n",
       "    </tr>\n",
       "  </thead>\n",
       "  <tbody>\n",
       "    <tr>\n",
       "      <th>0</th>\n",
       "      <td>Did you hear about the Native American man tha...</td>\n",
       "      <td>He nearly drown in his own tea pee.</td>\n",
       "    </tr>\n",
       "    <tr>\n",
       "      <th>1</th>\n",
       "      <td>What's the best anti diarrheal prescription?</td>\n",
       "      <td>Mycheexarphlexin</td>\n",
       "    </tr>\n",
       "    <tr>\n",
       "      <th>2</th>\n",
       "      <td>What do you call a person who is outside a doo...</td>\n",
       "      <td>Matt</td>\n",
       "    </tr>\n",
       "    <tr>\n",
       "      <th>3</th>\n",
       "      <td>Which Star Trek character is a member of the m...</td>\n",
       "      <td>Jean-Luc Pickacard</td>\n",
       "    </tr>\n",
       "    <tr>\n",
       "      <th>4</th>\n",
       "      <td>What's the difference between a bullet and a h...</td>\n",
       "      <td>A bullet doesn't miss Harambe</td>\n",
       "    </tr>\n",
       "  </tbody>\n",
       "</table>\n",
       "</div>"
      ],
      "text/plain": [
       "                                            Question  \\\n",
       "0  Did you hear about the Native American man tha...   \n",
       "1       What's the best anti diarrheal prescription?   \n",
       "2  What do you call a person who is outside a doo...   \n",
       "3  Which Star Trek character is a member of the m...   \n",
       "4  What's the difference between a bullet and a h...   \n",
       "\n",
       "                                Answer  \n",
       "0  He nearly drown in his own tea pee.  \n",
       "1                     Mycheexarphlexin  \n",
       "2                                 Matt  \n",
       "3                   Jean-Luc Pickacard  \n",
       "4        A bullet doesn't miss Harambe  "
      ]
     },
     "execution_count": 2,
     "metadata": {},
     "output_type": "execute_result"
    }
   ],
   "source": [
    "jokes = pd.read_csv('jokes_combined.csv', usecols=['Question', 'Answer'])\n",
    "jokes.head()"
   ]
  },
  {
   "cell_type": "code",
   "execution_count": 10,
   "metadata": {},
   "outputs": [],
   "source": [
    "def is_string(line):\n",
    "    return isinstance(line, str)"
   ]
  },
  {
   "cell_type": "code",
   "execution_count": 12,
   "metadata": {},
   "outputs": [
    {
     "data": {
      "text/plain": [
       "0         True\n",
       "1         True\n",
       "2         True\n",
       "3         True\n",
       "4         True\n",
       "5         True\n",
       "6         True\n",
       "7         True\n",
       "8         True\n",
       "9         True\n",
       "10        True\n",
       "11        True\n",
       "12        True\n",
       "13        True\n",
       "14        True\n",
       "15        True\n",
       "16        True\n",
       "17        True\n",
       "18        True\n",
       "19        True\n",
       "20        True\n",
       "21        True\n",
       "22        True\n",
       "23        True\n",
       "24        True\n",
       "25        True\n",
       "26        True\n",
       "27        True\n",
       "28        True\n",
       "29        True\n",
       "          ... \n",
       "216323    True\n",
       "216324    True\n",
       "216325    True\n",
       "216326    True\n",
       "216327    True\n",
       "216328    True\n",
       "216329    True\n",
       "216330    True\n",
       "216331    True\n",
       "216332    True\n",
       "216333    True\n",
       "216334    True\n",
       "216335    True\n",
       "216336    True\n",
       "216337    True\n",
       "216338    True\n",
       "216339    True\n",
       "216340    True\n",
       "216341    True\n",
       "216342    True\n",
       "216343    True\n",
       "216344    True\n",
       "216345    True\n",
       "216346    True\n",
       "216347    True\n",
       "216348    True\n",
       "216349    True\n",
       "216350    True\n",
       "216351    True\n",
       "216352    True\n",
       "Length: 216353, dtype: bool"
      ]
     },
     "execution_count": 12,
     "metadata": {},
     "output_type": "execute_result"
    }
   ],
   "source": [
    "mask_is_string = jokes['Question'].apply(is_string) & jokes['Answer'].apply(is_string)\n",
    "mask_is_string"
   ]
  },
  {
   "cell_type": "code",
   "execution_count": 14,
   "metadata": {},
   "outputs": [
    {
     "data": {
      "text/plain": [
       "(214642, 2)"
      ]
     },
     "execution_count": 14,
     "metadata": {},
     "output_type": "execute_result"
    }
   ],
   "source": [
    "jokes = jokes[mask_is_string]\n",
    "jokes.shape"
   ]
  },
  {
   "cell_type": "code",
   "execution_count": 8,
   "metadata": {},
   "outputs": [],
   "source": [
    "def preprocess(line):\n",
    "    return line.lower().strip('\\n')"
   ]
  },
  {
   "cell_type": "code",
   "execution_count": 15,
   "metadata": {},
   "outputs": [],
   "source": [
    "jokes['Question'] = jokes['Question'].apply(preprocess)"
   ]
  },
  {
   "cell_type": "code",
   "execution_count": 16,
   "metadata": {},
   "outputs": [
    {
     "data": {
      "text/html": [
       "<div>\n",
       "<style scoped>\n",
       "    .dataframe tbody tr th:only-of-type {\n",
       "        vertical-align: middle;\n",
       "    }\n",
       "\n",
       "    .dataframe tbody tr th {\n",
       "        vertical-align: top;\n",
       "    }\n",
       "\n",
       "    .dataframe thead th {\n",
       "        text-align: right;\n",
       "    }\n",
       "</style>\n",
       "<table border=\"1\" class=\"dataframe\">\n",
       "  <thead>\n",
       "    <tr style=\"text-align: right;\">\n",
       "      <th></th>\n",
       "      <th>Question</th>\n",
       "      <th>Answer</th>\n",
       "    </tr>\n",
       "  </thead>\n",
       "  <tbody>\n",
       "    <tr>\n",
       "      <th>0</th>\n",
       "      <td>did you hear about the native american man tha...</td>\n",
       "      <td>he nearly drown in his own tea pee.</td>\n",
       "    </tr>\n",
       "    <tr>\n",
       "      <th>1</th>\n",
       "      <td>what's the best anti diarrheal prescription?</td>\n",
       "      <td>mycheexarphlexin</td>\n",
       "    </tr>\n",
       "    <tr>\n",
       "      <th>2</th>\n",
       "      <td>what do you call a person who is outside a doo...</td>\n",
       "      <td>matt</td>\n",
       "    </tr>\n",
       "    <tr>\n",
       "      <th>3</th>\n",
       "      <td>which star trek character is a member of the m...</td>\n",
       "      <td>jean-luc pickacard</td>\n",
       "    </tr>\n",
       "    <tr>\n",
       "      <th>4</th>\n",
       "      <td>what's the difference between a bullet and a h...</td>\n",
       "      <td>a bullet doesn't miss harambe</td>\n",
       "    </tr>\n",
       "  </tbody>\n",
       "</table>\n",
       "</div>"
      ],
      "text/plain": [
       "                                            Question  \\\n",
       "0  did you hear about the native american man tha...   \n",
       "1       what's the best anti diarrheal prescription?   \n",
       "2  what do you call a person who is outside a doo...   \n",
       "3  which star trek character is a member of the m...   \n",
       "4  what's the difference between a bullet and a h...   \n",
       "\n",
       "                                Answer  \n",
       "0  he nearly drown in his own tea pee.  \n",
       "1                     mycheexarphlexin  \n",
       "2                                 matt  \n",
       "3                   jean-luc pickacard  \n",
       "4        a bullet doesn't miss harambe  "
      ]
     },
     "execution_count": 16,
     "metadata": {},
     "output_type": "execute_result"
    }
   ],
   "source": [
    "jokes['Answer'] = jokes['Answer'].apply(preprocess)\n",
    "jokes.head()"
   ]
  },
  {
   "cell_type": "markdown",
   "metadata": {},
   "source": [
    "Get jokes of a certain 'type'"
   ]
  },
  {
   "cell_type": "code",
   "execution_count": 19,
   "metadata": {},
   "outputs": [],
   "source": [
    "def get_what_did_jokes(line):\n",
    "    return bool(re.search(r'^[Ww]hat[\\s]+did', line))"
   ]
  },
  {
   "cell_type": "code",
   "execution_count": 55,
   "metadata": {},
   "outputs": [
    {
     "data": {
      "text/plain": [
       "(14557, 2)"
      ]
     },
     "execution_count": 55,
     "metadata": {},
     "output_type": "execute_result"
    }
   ],
   "source": [
    "jokes_what_did = jokes[jokes['Question'].apply(get_what_did_jokes)]\n",
    "jokes_what_did.shape"
   ]
  },
  {
   "cell_type": "code",
   "execution_count": 23,
   "metadata": {},
   "outputs": [],
   "source": [
    "from profanity import profanity"
   ]
  },
  {
   "cell_type": "code",
   "execution_count": 28,
   "metadata": {},
   "outputs": [],
   "source": [
    "def clean_profanity(line):\n",
    "    return profanity.contains_profanity(line['Question']) | profanity.contains_profanity(line['Answer'])"
   ]
  },
  {
   "cell_type": "code",
   "execution_count": 56,
   "metadata": {},
   "outputs": [
    {
     "data": {
      "text/plain": [
       "20        False\n",
       "58        False\n",
       "72        False\n",
       "77        False\n",
       "95        False\n",
       "100       False\n",
       "112       False\n",
       "115        True\n",
       "131       False\n",
       "134       False\n",
       "143       False\n",
       "151       False\n",
       "156       False\n",
       "168        True\n",
       "173       False\n",
       "227       False\n",
       "229       False\n",
       "241       False\n",
       "258       False\n",
       "271       False\n",
       "304       False\n",
       "309        True\n",
       "329       False\n",
       "332       False\n",
       "350       False\n",
       "369       False\n",
       "370       False\n",
       "396       False\n",
       "403       False\n",
       "404       False\n",
       "          ...  \n",
       "215992    False\n",
       "215994    False\n",
       "216028    False\n",
       "216029    False\n",
       "216042    False\n",
       "216064    False\n",
       "216065    False\n",
       "216072     True\n",
       "216078     True\n",
       "216090    False\n",
       "216093    False\n",
       "216115    False\n",
       "216143    False\n",
       "216146     True\n",
       "216165    False\n",
       "216195    False\n",
       "216209    False\n",
       "216212    False\n",
       "216220    False\n",
       "216222    False\n",
       "216241    False\n",
       "216242    False\n",
       "216250    False\n",
       "216260    False\n",
       "216274    False\n",
       "216282    False\n",
       "216287    False\n",
       "216302    False\n",
       "216313    False\n",
       "216327    False\n",
       "Length: 14557, dtype: bool"
      ]
     },
     "execution_count": 56,
     "metadata": {},
     "output_type": "execute_result"
    }
   ],
   "source": [
    "mask_profanity = jokes_what_did.apply(clean_profanity, axis=1)\n",
    "mask_profanity"
   ]
  },
  {
   "cell_type": "code",
   "execution_count": 57,
   "metadata": {},
   "outputs": [
    {
     "data": {
      "text/plain": [
       "False    13480\n",
       "True      1077\n",
       "dtype: int64"
      ]
     },
     "execution_count": 57,
     "metadata": {},
     "output_type": "execute_result"
    }
   ],
   "source": [
    "mask_profanity.value_counts()"
   ]
  },
  {
   "cell_type": "code",
   "execution_count": 58,
   "metadata": {},
   "outputs": [
    {
     "data": {
      "text/plain": [
       "(13480, 2)"
      ]
     },
     "execution_count": 58,
     "metadata": {},
     "output_type": "execute_result"
    }
   ],
   "source": [
    "jokes_what_did = jokes_what_did[~mask_profanity]\n",
    "jokes_what_did.shape"
   ]
  },
  {
   "cell_type": "code",
   "execution_count": 59,
   "metadata": {},
   "outputs": [
    {
     "data": {
      "text/html": [
       "<div>\n",
       "<style scoped>\n",
       "    .dataframe tbody tr th:only-of-type {\n",
       "        vertical-align: middle;\n",
       "    }\n",
       "\n",
       "    .dataframe tbody tr th {\n",
       "        vertical-align: top;\n",
       "    }\n",
       "\n",
       "    .dataframe thead th {\n",
       "        text-align: right;\n",
       "    }\n",
       "</style>\n",
       "<table border=\"1\" class=\"dataframe\">\n",
       "  <thead>\n",
       "    <tr style=\"text-align: right;\">\n",
       "      <th></th>\n",
       "      <th>Question</th>\n",
       "      <th>Answer</th>\n",
       "    </tr>\n",
       "  </thead>\n",
       "  <tbody>\n",
       "    <tr>\n",
       "      <th>20</th>\n",
       "      <td>what did the 2 rednecks say after breaking up?</td>\n",
       "      <td>let's just be cousins.</td>\n",
       "    </tr>\n",
       "    <tr>\n",
       "      <th>58</th>\n",
       "      <td>what did the man say to his wife when he faile...</td>\n",
       "      <td>no hard feelings.</td>\n",
       "    </tr>\n",
       "    <tr>\n",
       "      <th>72</th>\n",
       "      <td>what did the american wwi vet say to the angry...</td>\n",
       "      <td>can't we just let argonne's be argonne's?</td>\n",
       "    </tr>\n",
       "    <tr>\n",
       "      <th>77</th>\n",
       "      <td>what did the farmer say when he lost his tractor?</td>\n",
       "      <td>where's my tractor?</td>\n",
       "    </tr>\n",
       "    <tr>\n",
       "      <th>95</th>\n",
       "      <td>what did mohammad eat while in the holy land?</td>\n",
       "      <td>makkah-roni and cheese!</td>\n",
       "    </tr>\n",
       "  </tbody>\n",
       "</table>\n",
       "</div>"
      ],
      "text/plain": [
       "                                             Question  \\\n",
       "20     what did the 2 rednecks say after breaking up?   \n",
       "58  what did the man say to his wife when he faile...   \n",
       "72  what did the american wwi vet say to the angry...   \n",
       "77  what did the farmer say when he lost his tractor?   \n",
       "95      what did mohammad eat while in the holy land?   \n",
       "\n",
       "                                       Answer  \n",
       "20                    let's just be cousins.   \n",
       "58                          no hard feelings.  \n",
       "72  can't we just let argonne's be argonne's?  \n",
       "77                        where's my tractor?  \n",
       "95                    makkah-roni and cheese!  "
      ]
     },
     "execution_count": 59,
     "metadata": {},
     "output_type": "execute_result"
    }
   ],
   "source": [
    "jokes_what_did.head()"
   ]
  },
  {
   "cell_type": "code",
   "execution_count": 60,
   "metadata": {},
   "outputs": [
    {
     "data": {
      "text/plain": [
       "'where is my tractor?\\n\\n(i am so sorry).'"
      ]
     },
     "execution_count": 60,
     "metadata": {},
     "output_type": "execute_result"
    }
   ],
   "source": [
    "ans = jokes_what_did.loc[146299, :]['Answer']\n",
    "ans"
   ]
  },
  {
   "cell_type": "code",
   "execution_count": 61,
   "metadata": {},
   "outputs": [
    {
     "data": {
      "text/plain": [
       "'where is my tractor?  (i am so sorry).'"
      ]
     },
     "execution_count": 61,
     "metadata": {},
     "output_type": "execute_result"
    }
   ],
   "source": [
    "ans = remove_newlines(ans)\n",
    "ans"
   ]
  },
  {
   "cell_type": "code",
   "execution_count": 62,
   "metadata": {},
   "outputs": [],
   "source": [
    "def remove_newlines(line):\n",
    "    return re.sub(r\"\\n\", \" \", line)"
   ]
  },
  {
   "cell_type": "code",
   "execution_count": 63,
   "metadata": {},
   "outputs": [
    {
     "data": {
      "text/plain": [
       "Question    what did the farmer say after he lost his trac...\n",
       "Answer                 where is my tractor?  (i am so sorry).\n",
       "Name: 146299, dtype: object"
      ]
     },
     "execution_count": 63,
     "metadata": {},
     "output_type": "execute_result"
    }
   ],
   "source": [
    "jokes_what_did['Question'] = jokes_what_did['Question'].apply(remove_newlines)\n",
    "jokes_what_did['Answer'] = jokes_what_did['Answer'].apply(remove_newlines)\n",
    "jokes_what_did.loc[146299, :]"
   ]
  },
  {
   "cell_type": "code",
   "execution_count": 65,
   "metadata": {},
   "outputs": [
    {
     "data": {
      "text/plain": [
       "'aww heel no!       kill me right now.'"
      ]
     },
     "execution_count": 65,
     "metadata": {},
     "output_type": "execute_result"
    }
   ],
   "source": [
    "ans = jokes_what_did.loc[148561, :]['Answer']\n",
    "ans"
   ]
  },
  {
   "cell_type": "markdown",
   "metadata": {},
   "source": [
    "146299"
   ]
  },
  {
   "cell_type": "code",
   "execution_count": 53,
   "metadata": {},
   "outputs": [
    {
     "data": {
      "text/plain": [
       "Question    what did the farmer say after he lost his trac...\n",
       "Answer               where is my tractor?\\n\\n(i am so sorry).\n",
       "Name: 146299, dtype: object"
      ]
     },
     "execution_count": 53,
     "metadata": {},
     "output_type": "execute_result"
    }
   ],
   "source": [
    "jokes_what_did.loc[146299, :]"
   ]
  },
  {
   "cell_type": "code",
   "execution_count": 66,
   "metadata": {},
   "outputs": [],
   "source": [
    "jokes_what_did.to_csv('jokes_what_did_1.csv', header=True, index=True)"
   ]
  },
  {
   "cell_type": "code",
   "execution_count": null,
   "metadata": {},
   "outputs": [],
   "source": []
  }
 ],
 "metadata": {
  "kernelspec": {
   "display_name": "Python 3",
   "language": "python",
   "name": "python3"
  },
  "language_info": {
   "codemirror_mode": {
    "name": "ipython",
    "version": 3
   },
   "file_extension": ".py",
   "mimetype": "text/x-python",
   "name": "python",
   "nbconvert_exporter": "python",
   "pygments_lexer": "ipython3",
   "version": "3.6.6"
  }
 },
 "nbformat": 4,
 "nbformat_minor": 2
}
